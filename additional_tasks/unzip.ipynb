{
 "cells": [
  {
   "cell_type": "code",
   "id": "initial_id",
   "metadata": {
    "collapsed": true,
    "ExecuteTime": {
     "end_time": "2024-10-11T04:17:08.045148Z",
     "start_time": "2024-10-11T04:15:47.453326Z"
    }
   },
   "source": [
    "import zipfile\n",
    "#location of the zip file\n",
    "zip_ref = zipfile.ZipFile(\"../additional_tasks/dataset/archive.zip\", 'r')\n",
    "#loaction which we want to extract the file\n",
    "zip_ref.extractall(\"dataset/imagenet/\")\n",
    "zip_ref.close()"
   ],
   "outputs": [],
   "execution_count": 4
  },
  {
   "metadata": {},
   "cell_type": "code",
   "outputs": [],
   "execution_count": null,
   "source": "",
   "id": "57ac71e361a0662c"
  }
 ],
 "metadata": {
  "kernelspec": {
   "display_name": "Python 3",
   "language": "python",
   "name": "python3"
  },
  "language_info": {
   "codemirror_mode": {
    "name": "ipython",
    "version": 2
   },
   "file_extension": ".py",
   "mimetype": "text/x-python",
   "name": "python",
   "nbconvert_exporter": "python",
   "pygments_lexer": "ipython2",
   "version": "2.7.6"
  }
 },
 "nbformat": 4,
 "nbformat_minor": 5
}
